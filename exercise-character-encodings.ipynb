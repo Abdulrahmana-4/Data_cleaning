{
 "cells": [
  {
   "cell_type": "markdown",
   "id": "e286ac53",
   "metadata": {
    "papermill": {
     "duration": 0.006391,
     "end_time": "2023-06-25T12:59:54.931751",
     "exception": false,
     "start_time": "2023-06-25T12:59:54.925360",
     "status": "completed"
    },
    "tags": []
   },
   "source": [
    "**This notebook is an exercise in the [Data Cleaning](https://www.kaggle.com/learn/data-cleaning) course.  You can reference the tutorial at [this link](https://www.kaggle.com/alexisbcook/character-encodings).**\n",
    "\n",
    "---\n"
   ]
  },
  {
   "cell_type": "markdown",
   "id": "638e5d57",
   "metadata": {
    "papermill": {
     "duration": 0.005547,
     "end_time": "2023-06-25T12:59:54.943436",
     "exception": false,
     "start_time": "2023-06-25T12:59:54.937889",
     "status": "completed"
    },
    "tags": []
   },
   "source": [
    "In this exercise, you'll apply what you learned in the **Character encodings** tutorial.\n",
    "\n",
    "# Setup\n",
    "\n",
    "The questions below will give you feedback on your work. Run the following cell to set up the feedback system."
   ]
  },
  {
   "cell_type": "code",
   "execution_count": 1,
   "id": "e1bafc7a",
   "metadata": {
    "execution": {
     "iopub.execute_input": "2023-06-25T12:59:54.957862Z",
     "iopub.status.busy": "2023-06-25T12:59:54.956722Z",
     "iopub.status.idle": "2023-06-25T12:59:55.063134Z",
     "shell.execute_reply": "2023-06-25T12:59:55.062014Z"
    },
    "papermill": {
     "duration": 0.116464,
     "end_time": "2023-06-25T12:59:55.065839",
     "exception": false,
     "start_time": "2023-06-25T12:59:54.949375",
     "status": "completed"
    },
    "tags": []
   },
   "outputs": [
    {
     "name": "stdout",
     "output_type": "stream",
     "text": [
      "Setup Complete\n"
     ]
    }
   ],
   "source": [
    "from learntools.core import binder\n",
    "binder.bind(globals())\n",
    "from learntools.data_cleaning.ex4 import *\n",
    "print(\"Setup Complete\")"
   ]
  },
  {
   "cell_type": "markdown",
   "id": "878c3cff",
   "metadata": {
    "papermill": {
     "duration": 0.006279,
     "end_time": "2023-06-25T12:59:55.078276",
     "exception": false,
     "start_time": "2023-06-25T12:59:55.071997",
     "status": "completed"
    },
    "tags": []
   },
   "source": [
    "# Get our environment set up\n",
    "\n",
    "The first thing we'll need to do is load in the libraries we'll be using."
   ]
  },
  {
   "cell_type": "code",
   "execution_count": 2,
   "id": "3a81344a",
   "metadata": {
    "execution": {
     "iopub.execute_input": "2023-06-25T12:59:55.092668Z",
     "iopub.status.busy": "2023-06-25T12:59:55.091988Z",
     "iopub.status.idle": "2023-06-25T12:59:55.097938Z",
     "shell.execute_reply": "2023-06-25T12:59:55.097043Z"
    },
    "papermill": {
     "duration": 0.015827,
     "end_time": "2023-06-25T12:59:55.100400",
     "exception": false,
     "start_time": "2023-06-25T12:59:55.084573",
     "status": "completed"
    },
    "tags": []
   },
   "outputs": [],
   "source": [
    "# modules we'll use\n",
    "import pandas as pd\n",
    "import numpy as np\n",
    "\n",
    "# helpful character encoding module\n",
    "import charset_normalizer\n",
    "\n",
    "# set seed for reproducibility\n",
    "np.random.seed(0)"
   ]
  },
  {
   "cell_type": "markdown",
   "id": "6dd28a76",
   "metadata": {
    "papermill": {
     "duration": 0.00755,
     "end_time": "2023-06-25T12:59:55.114283",
     "exception": false,
     "start_time": "2023-06-25T12:59:55.106733",
     "status": "completed"
    },
    "tags": []
   },
   "source": [
    "# 1) What are encodings?\n",
    "\n",
    "You're working with a dataset composed of bytes.  Run the code cell below to print a sample entry."
   ]
  },
  {
   "cell_type": "code",
   "execution_count": 3,
   "id": "c2f86983",
   "metadata": {
    "execution": {
     "iopub.execute_input": "2023-06-25T12:59:55.128248Z",
     "iopub.status.busy": "2023-06-25T12:59:55.127567Z",
     "iopub.status.idle": "2023-06-25T12:59:55.133514Z",
     "shell.execute_reply": "2023-06-25T12:59:55.132388Z"
    },
    "papermill": {
     "duration": 0.015477,
     "end_time": "2023-06-25T12:59:55.135783",
     "exception": false,
     "start_time": "2023-06-25T12:59:55.120306",
     "status": "completed"
    },
    "tags": []
   },
   "outputs": [
    {
     "name": "stdout",
     "output_type": "stream",
     "text": [
      "b'\\xa7A\\xa6n'\n",
      "data type: <class 'bytes'>\n"
     ]
    }
   ],
   "source": [
    "sample_entry = b'\\xa7A\\xa6n'\n",
    "print(sample_entry)\n",
    "print('data type:', type(sample_entry))"
   ]
  },
  {
   "cell_type": "markdown",
   "id": "25fea1ad",
   "metadata": {
    "papermill": {
     "duration": 0.006626,
     "end_time": "2023-06-25T12:59:55.148765",
     "exception": false,
     "start_time": "2023-06-25T12:59:55.142139",
     "status": "completed"
    },
    "tags": []
   },
   "source": [
    "You notice that it doesn't use the standard UTF-8 encoding. \n",
    "\n",
    "Use the next code cell to create a variable `new_entry` that changes the encoding from `\"big5-tw\"` to `\"utf-8\"`.  `new_entry` should have the bytes datatype."
   ]
  },
  {
   "cell_type": "code",
   "execution_count": 4,
   "id": "02e24492",
   "metadata": {
    "execution": {
     "iopub.execute_input": "2023-06-25T12:59:55.163777Z",
     "iopub.status.busy": "2023-06-25T12:59:55.163031Z",
     "iopub.status.idle": "2023-06-25T12:59:55.172863Z",
     "shell.execute_reply": "2023-06-25T12:59:55.171773Z"
    },
    "papermill": {
     "duration": 0.020146,
     "end_time": "2023-06-25T12:59:55.175238",
     "exception": false,
     "start_time": "2023-06-25T12:59:55.155092",
     "status": "completed"
    },
    "tags": []
   },
   "outputs": [
    {
     "data": {
      "application/javascript": [
       "parent.postMessage({\"jupyterEvent\": \"custom.exercise_interaction\", \"data\": {\"outcomeType\": 1, \"valueTowardsCompletion\": 0.3333333333333333, \"interactionType\": 1, \"questionType\": 1, \"questionId\": \"1_EncodingsIntro\", \"learnToolsVersion\": \"0.3.4\", \"failureMessage\": \"\", \"exceptionClass\": \"\", \"trace\": \"\"}}, \"*\")"
      ],
      "text/plain": [
       "<IPython.core.display.Javascript object>"
      ]
     },
     "metadata": {},
     "output_type": "display_data"
    },
    {
     "data": {
      "text/markdown": [
       "<span style=\"color:#33cc33\">Correct</span>"
      ],
      "text/plain": [
       "Correct"
      ]
     },
     "metadata": {},
     "output_type": "display_data"
    }
   ],
   "source": [
    "\n",
    "new_entry=sample_entry.decode(\"big5-tw\").encode()\n",
    "\n",
    "# Check your answer\n",
    "q1.check()"
   ]
  },
  {
   "cell_type": "code",
   "execution_count": 5,
   "id": "201f7421",
   "metadata": {
    "execution": {
     "iopub.execute_input": "2023-06-25T12:59:55.190182Z",
     "iopub.status.busy": "2023-06-25T12:59:55.189743Z",
     "iopub.status.idle": "2023-06-25T12:59:55.194334Z",
     "shell.execute_reply": "2023-06-25T12:59:55.193433Z"
    },
    "papermill": {
     "duration": 0.014836,
     "end_time": "2023-06-25T12:59:55.196662",
     "exception": false,
     "start_time": "2023-06-25T12:59:55.181826",
     "status": "completed"
    },
    "tags": []
   },
   "outputs": [],
   "source": [
    "# Lines below will give you a hint or solution code\n",
    "#q1.hint()\n",
    "#q1.solution()"
   ]
  },
  {
   "cell_type": "markdown",
   "id": "e693a932",
   "metadata": {
    "papermill": {
     "duration": 0.006294,
     "end_time": "2023-06-25T12:59:55.209679",
     "exception": false,
     "start_time": "2023-06-25T12:59:55.203385",
     "status": "completed"
    },
    "tags": []
   },
   "source": [
    "# 2) Reading in files with encoding problems\n",
    "\n",
    "Use the code cell below to read in this file at path `\"../input/fatal-police-shootings-in-the-us/PoliceKillingsUS.csv\"`.  \n",
    "\n",
    "Figure out what the correct encoding should be and read in the file to a DataFrame `police_killings`."
   ]
  },
  {
   "cell_type": "code",
   "execution_count": 6,
   "id": "986965f1",
   "metadata": {
    "execution": {
     "iopub.execute_input": "2023-06-25T12:59:55.226683Z",
     "iopub.status.busy": "2023-06-25T12:59:55.225713Z",
     "iopub.status.idle": "2023-06-25T12:59:55.256781Z",
     "shell.execute_reply": "2023-06-25T12:59:55.255142Z"
    },
    "papermill": {
     "duration": 0.041649,
     "end_time": "2023-06-25T12:59:55.259176",
     "exception": false,
     "start_time": "2023-06-25T12:59:55.217527",
     "status": "completed"
    },
    "tags": []
   },
   "outputs": [
    {
     "data": {
      "application/javascript": [
       "parent.postMessage({\"jupyterEvent\": \"custom.exercise_interaction\", \"data\": {\"outcomeType\": 1, \"valueTowardsCompletion\": 0.3333333333333333, \"interactionType\": 1, \"questionType\": 1, \"questionId\": \"2_ReadIn\", \"learnToolsVersion\": \"0.3.4\", \"failureMessage\": \"\", \"exceptionClass\": \"\", \"trace\": \"\"}}, \"*\")"
      ],
      "text/plain": [
       "<IPython.core.display.Javascript object>"
      ]
     },
     "metadata": {},
     "output_type": "display_data"
    },
    {
     "data": {
      "text/markdown": [
       "<span style=\"color:#33cc33\">Correct</span>"
      ],
      "text/plain": [
       "Correct"
      ]
     },
     "metadata": {},
     "output_type": "display_data"
    }
   ],
   "source": [
    "# TODO: Load in the DataFrame correctly.\n",
    "\n",
    "police_killings = pd.read_csv(\"../input/fatal-police-shootings-in-the-us/PoliceKillingsUS.csv\" ,encoding='Windows-1252' )\n",
    "\n",
    "# Check your answer\n",
    "q2.check()"
   ]
  },
  {
   "cell_type": "markdown",
   "id": "33bd470e",
   "metadata": {
    "papermill": {
     "duration": 0.006522,
     "end_time": "2023-06-25T12:59:55.272573",
     "exception": false,
     "start_time": "2023-06-25T12:59:55.266051",
     "status": "completed"
    },
    "tags": []
   },
   "source": [
    "Feel free to use any additional code cells for supplemental work.  To get credit for finishing this question, you'll need to run `q2.check()` and get a result of **Correct**."
   ]
  },
  {
   "cell_type": "code",
   "execution_count": 7,
   "id": "8189f67b",
   "metadata": {
    "execution": {
     "iopub.execute_input": "2023-06-25T12:59:55.288615Z",
     "iopub.status.busy": "2023-06-25T12:59:55.287631Z",
     "iopub.status.idle": "2023-06-25T12:59:55.798451Z",
     "shell.execute_reply": "2023-06-25T12:59:55.797299Z"
    },
    "papermill": {
     "duration": 0.521658,
     "end_time": "2023-06-25T12:59:55.800992",
     "exception": false,
     "start_time": "2023-06-25T12:59:55.279334",
     "status": "completed"
    },
    "tags": []
   },
   "outputs": [
    {
     "name": "stdout",
     "output_type": "stream",
     "text": [
      "{'encoding': 'windows-1250', 'language': 'English', 'confidence': 1.0}\n"
     ]
    }
   ],
   "source": [
    "# (Optional) Use this code cell for any additional work.\n",
    "with open(\"../input/fatal-police-shootings-in-the-us/PoliceKillingsUS.csv\", 'rb') as rawdata:\n",
    "    result = charset_normalizer.detect(rawdata.read(100000))\n",
    "print(result)"
   ]
  },
  {
   "cell_type": "code",
   "execution_count": 8,
   "id": "f74aac14",
   "metadata": {
    "execution": {
     "iopub.execute_input": "2023-06-25T12:59:55.816706Z",
     "iopub.status.busy": "2023-06-25T12:59:55.816324Z",
     "iopub.status.idle": "2023-06-25T12:59:55.821127Z",
     "shell.execute_reply": "2023-06-25T12:59:55.819932Z"
    },
    "papermill": {
     "duration": 0.015375,
     "end_time": "2023-06-25T12:59:55.823435",
     "exception": false,
     "start_time": "2023-06-25T12:59:55.808060",
     "status": "completed"
    },
    "tags": []
   },
   "outputs": [],
   "source": [
    "# Lines below will give you a hint or solution code\n",
    "#q2.hint()\n",
    "#q2.solution()"
   ]
  },
  {
   "cell_type": "markdown",
   "id": "9afdea14",
   "metadata": {
    "papermill": {
     "duration": 0.00666,
     "end_time": "2023-06-25T12:59:55.837164",
     "exception": false,
     "start_time": "2023-06-25T12:59:55.830504",
     "status": "completed"
    },
    "tags": []
   },
   "source": [
    "# 3) Saving your files with UTF-8 encoding\n",
    "\n",
    "Save a version of the police killings dataset to CSV with UTF-8 encoding.  Your answer will be marked correct after saving this file.  \n",
    "\n",
    "Note: When using the `to_csv()` method, supply only the name of the file (e.g., `\"my_file.csv\"`).  This saves the file at the filepath `\"/kaggle/working/my_file.csv\"`."
   ]
  },
  {
   "cell_type": "code",
   "execution_count": 9,
   "id": "c782322c",
   "metadata": {
    "execution": {
     "iopub.execute_input": "2023-06-25T12:59:55.852890Z",
     "iopub.status.busy": "2023-06-25T12:59:55.852487Z",
     "iopub.status.idle": "2023-06-25T12:59:55.912139Z",
     "shell.execute_reply": "2023-06-25T12:59:55.910951Z"
    },
    "papermill": {
     "duration": 0.07056,
     "end_time": "2023-06-25T12:59:55.914678",
     "exception": false,
     "start_time": "2023-06-25T12:59:55.844118",
     "status": "completed"
    },
    "tags": []
   },
   "outputs": [
    {
     "data": {
      "application/javascript": [
       "parent.postMessage({\"jupyterEvent\": \"custom.exercise_interaction\", \"data\": {\"outcomeType\": 1, \"valueTowardsCompletion\": 0.3333333333333333, \"interactionType\": 1, \"questionType\": 2, \"questionId\": \"3_SaveCSV\", \"learnToolsVersion\": \"0.3.4\", \"failureMessage\": \"\", \"exceptionClass\": \"\", \"trace\": \"\"}}, \"*\")"
      ],
      "text/plain": [
       "<IPython.core.display.Javascript object>"
      ]
     },
     "metadata": {},
     "output_type": "display_data"
    },
    {
     "data": {
      "text/markdown": [
       "<span style=\"color:#33cc33\">Correct</span>"
      ],
      "text/plain": [
       "Correct"
      ]
     },
     "metadata": {},
     "output_type": "display_data"
    }
   ],
   "source": [
    "# TODO: Save the police killings dataset to CSV\n",
    "police_killings.to_csv(\"/kaggle/working/my_file.csv\")\n",
    "\n",
    "# Check your answer\n",
    "q3.check()"
   ]
  },
  {
   "cell_type": "code",
   "execution_count": 10,
   "id": "d7b997c2",
   "metadata": {
    "execution": {
     "iopub.execute_input": "2023-06-25T12:59:55.931368Z",
     "iopub.status.busy": "2023-06-25T12:59:55.930950Z",
     "iopub.status.idle": "2023-06-25T12:59:55.935672Z",
     "shell.execute_reply": "2023-06-25T12:59:55.934712Z"
    },
    "papermill": {
     "duration": 0.016151,
     "end_time": "2023-06-25T12:59:55.938230",
     "exception": false,
     "start_time": "2023-06-25T12:59:55.922079",
     "status": "completed"
    },
    "tags": []
   },
   "outputs": [],
   "source": [
    "# Lines below will give you a hint or solution code\n",
    "#q3.hint()\n",
    "#q3.solution()"
   ]
  },
  {
   "cell_type": "markdown",
   "id": "920af448",
   "metadata": {
    "papermill": {
     "duration": 0.007377,
     "end_time": "2023-06-25T12:59:55.953035",
     "exception": false,
     "start_time": "2023-06-25T12:59:55.945658",
     "status": "completed"
    },
    "tags": []
   },
   "source": [
    "# (Optional) More practice\n",
    "\n",
    "Check out [this dataset of files in different character encodings](https://www.kaggle.com/rtatman/character-encoding-examples). Can you read in all the files with their original encodings and them save them out as UTF-8 files?\n",
    "\n",
    "If you have a file that's in UTF-8 but has just a couple of weird-looking characters in it, you can try out the [ftfy module](https://ftfy.readthedocs.io/en/latest/#) and see if it helps. \n",
    "\n",
    "# Keep going\n",
    "\n",
    "In the final lesson, learn how to [**clean up inconsistent text entries**](https://www.kaggle.com/alexisbcook/inconsistent-data-entry) in your dataset."
   ]
  },
  {
   "cell_type": "markdown",
   "id": "04f1571e",
   "metadata": {
    "papermill": {
     "duration": 0.007078,
     "end_time": "2023-06-25T12:59:55.967912",
     "exception": false,
     "start_time": "2023-06-25T12:59:55.960834",
     "status": "completed"
    },
    "tags": []
   },
   "source": [
    "---\n",
    "\n",
    "\n",
    "\n",
    "\n",
    "*Have questions or comments? Visit the [course discussion forum](https://www.kaggle.com/learn/data-cleaning/discussion) to chat with other learners.*"
   ]
  }
 ],
 "metadata": {
  "kernelspec": {
   "display_name": "Python 3",
   "language": "python",
   "name": "python3"
  },
  "language_info": {
   "codemirror_mode": {
    "name": "ipython",
    "version": 3
   },
   "file_extension": ".py",
   "mimetype": "text/x-python",
   "name": "python",
   "nbconvert_exporter": "python",
   "pygments_lexer": "ipython3",
   "version": "3.10.10"
  },
  "papermill": {
   "default_parameters": {},
   "duration": 14.413158,
   "end_time": "2023-06-25T12:59:56.897585",
   "environment_variables": {},
   "exception": null,
   "input_path": "__notebook__.ipynb",
   "output_path": "__notebook__.ipynb",
   "parameters": {},
   "start_time": "2023-06-25T12:59:42.484427",
   "version": "2.4.0"
  }
 },
 "nbformat": 4,
 "nbformat_minor": 5
}
